{
  "nbformat": 4,
  "nbformat_minor": 0,
  "metadata": {
    "colab": {
      "provenance": [],
      "authorship_tag": "ABX9TyOsFTKWHzXLkRmmbkdvtKOp",
      "include_colab_link": true
    },
    "kernelspec": {
      "name": "python3",
      "display_name": "Python 3"
    },
    "language_info": {
      "name": "python"
    }
  },
  "cells": [
    {
      "cell_type": "markdown",
      "metadata": {
        "id": "view-in-github",
        "colab_type": "text"
      },
      "source": [
        "<a href=\"https://colab.research.google.com/github/Vaishnavim03/Prodigy_SD_04/blob/main/Prodigy_SD_04.ipynb\" target=\"_parent\"><img src=\"https://colab.research.google.com/assets/colab-badge.svg\" alt=\"Open In Colab\"/></a>"
      ]
    },
    {
      "cell_type": "code",
      "execution_count": 1,
      "metadata": {
        "colab": {
          "base_uri": "https://localhost:8080/"
        },
        "id": "-mG-fQPhEEy7",
        "outputId": "3bf47f1d-d92d-4b00-ebfd-c6f158127400"
      },
      "outputs": [
        {
          "output_type": "stream",
          "name": "stdout",
          "text": [
            "Original Sudoku board:\n",
            "5 3 0  | 0 7 0  | 0 0 0 \n",
            "6 0 0  | 1 9 5  | 0 0 0 \n",
            "0 9 8  | 0 0 0  | 0 6 0 \n",
            "---------------------\n",
            "8 0 0  | 0 6 0  | 0 0 3 \n",
            "4 0 0  | 8 0 3  | 0 0 1 \n",
            "7 0 0  | 0 2 0  | 0 0 6 \n",
            "---------------------\n",
            "0 6 0  | 0 0 0  | 2 8 0 \n",
            "0 0 0  | 4 1 9  | 0 0 5 \n",
            "0 0 0  | 0 8 0  | 0 7 9 \n",
            "\n",
            "Sudoku solved:\n",
            "5 3 4  | 6 7 8  | 9 1 2 \n",
            "6 7 2  | 1 9 5  | 3 4 8 \n",
            "1 9 8  | 3 4 2  | 5 6 7 \n",
            "---------------------\n",
            "8 5 9  | 7 6 1  | 4 2 3 \n",
            "4 2 6  | 8 5 3  | 7 9 1 \n",
            "7 1 3  | 9 2 4  | 8 5 6 \n",
            "---------------------\n",
            "9 6 1  | 5 3 7  | 2 8 4 \n",
            "2 8 7  | 4 1 9  | 6 3 5 \n",
            "3 4 5  | 2 8 6  | 1 7 9 \n"
          ]
        }
      ],
      "source": [
        "def is_valid(board, row, col, num):\n",
        "    for i in range(9):\n",
        "        if board[row][i] == num or board[i][col] == num:\n",
        "            return False\n",
        "\n",
        "    start_row = row - row % 3\n",
        "    start_col = col - col % 3\n",
        "\n",
        "    for i in range(3):\n",
        "        for j in range(3):\n",
        "            if board[i + start_row][j + start_col] == num:\n",
        "                return False\n",
        "\n",
        "    return True\n",
        "\n",
        "def solve_sudoku(board):\n",
        "    empty = find_empty(board)\n",
        "    if not empty:\n",
        "        return True\n",
        "\n",
        "    row, col = empty\n",
        "\n",
        "    for num in range(1, 10):\n",
        "        if is_valid(board, row, col, num):\n",
        "            board[row][col] = num\n",
        "\n",
        "            if solve_sudoku(board):\n",
        "                return True\n",
        "\n",
        "            board[row][col] = 0\n",
        "\n",
        "    return False\n",
        "\n",
        "def find_empty(board):\n",
        "    for i in range(9):\n",
        "        for j in range(9):\n",
        "            if board[i][j] == 0:\n",
        "                return (i, j)\n",
        "    return None\n",
        "\n",
        "def print_board(board):\n",
        "    for i in range(9):\n",
        "        if i % 3 == 0 and i != 0:\n",
        "            print(\"-\" * 21)\n",
        "\n",
        "        for j in range(9):\n",
        "            if j % 3 == 0 and j != 0:\n",
        "                print(\" | \", end=\"\")\n",
        "            print(board[i][j], end=\" \")\n",
        "        print()\n",
        "\n",
        "board = [\n",
        "    [5, 3, 0, 0, 7, 0, 0, 0, 0],\n",
        "    [6, 0, 0, 1, 9, 5, 0, 0, 0],\n",
        "    [0, 9, 8, 0, 0, 0, 0, 6, 0],\n",
        "    [8, 0, 0, 0, 6, 0, 0, 0, 3],\n",
        "    [4, 0, 0, 8, 0, 3, 0, 0, 1],\n",
        "    [7, 0, 0, 0, 2, 0, 0, 0, 6],\n",
        "    [0, 6, 0, 0, 0, 0, 2, 8, 0],\n",
        "    [0, 0, 0, 4, 1, 9, 0, 0, 5],\n",
        "    [0, 0, 0, 0, 8, 0, 0, 7, 9]\n",
        "]\n",
        "\n",
        "print(\"Original Sudoku board:\")\n",
        "print_board(board)\n",
        "\n",
        "if solve_sudoku(board):\n",
        "    print(\"\\nSudoku solved:\")\n",
        "    print_board(board)\n",
        "else:\n",
        "    print(\"No solution exists for this Sudoku puzzle.\")"
      ]
    }
  ]
}